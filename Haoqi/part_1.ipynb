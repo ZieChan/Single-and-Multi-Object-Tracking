{
 "cells": [
  {
   "cell_type": "markdown",
   "id": "57bb12a1-0549-4360-8e39-7d84b8f8a359",
   "metadata": {},
   "source": [
    "### Part 1"
   ]
  },
  {
   "cell_type": "markdown",
   "id": "1a1a2a62-bd6f-4652-bbd7-0e11aa58c087",
   "metadata": {},
   "source": [
    "Alpha-Beta filter"
   ]
  },
  {
   "cell_type": "code",
   "execution_count": 1,
   "id": "1941f929-ffb8-4569-b3ab-394016766f43",
   "metadata": {},
   "outputs": [],
   "source": [
    "import json\n",
    "import cv2 as cv\n",
    "import numpy as np\n",
    "\n",
    "def load_obj_each_frame(data_file):\n",
    "    with open(data_file, 'r') as file:\n",
    "        frame_dict = json.load(file)\n",
    "    return frame_dict\n",
    "\n",
    "def alpha_beta_filter(initial_position, initial_velocity, alpha, beta, observations, dt=1):\n",
    "    estimated_position = initial_position\n",
    "    estimated_velocity = initial_velocity\n",
    "    estimates = []\n",
    "\n",
    "    for observation in observations:\n",
    "        # Prediction step\n",
    "        predicted_position = estimated_position + estimated_velocity * dt\n",
    "        predicted_velocity = estimated_velocity\n",
    "\n",
    "        # Update step (if observation is available)\n",
    "        if observation != [-1, -1]:\n",
    "            residual = observation - predicted_position\n",
    "            estimated_position = predicted_position + alpha * residual\n",
    "            estimated_velocity = predicted_velocity + (beta * residual) / dt\n",
    "        else:\n",
    "            # use the prediction if observation is missing\n",
    "            estimated_position = predicted_position\n",
    "            estimated_velocity = predicted_velocity\n",
    "\n",
    "        estimates.append([estimated_position, estimated_velocity])\n",
    "\n",
    "    return estimates\n",
    "\n",
    "def draw_target_object_center(video_file, obj_centers):\n",
    "    count = 0\n",
    "    cap = cv.VideoCapture(video_file)\n",
    "    ok, image = cap.read()\n",
    "\n",
    "    # Initialize Alpha-Beta filter parameters\n",
    "    initial_position = np.array([313, 229])     # Initial guess for position\n",
    "    initial_velocity = np.array([-0.47328952, -0.3911483])  # Initial guess for velocity\n",
    "    alpha = 0.4     # Position update factor\n",
    "    beta = 0.0005   # Velocity update factor\n",
    "    \n",
    "    filtered_estimates = alpha_beta_filter(initial_position, initial_velocity, alpha, beta, obj_centers)\n",
    "\n",
    "    # Save in a JSON file\n",
    "    estimated_positions = [x[0] for x in filtered_estimates]\n",
    "    part_1_object_tracking = [[int(round(x)), int(round(y))] for x, y in estimated_positions]\n",
    "    output_data = {\"obj\": part_1_object_tracking}\n",
    "    # with open('part_1_object_tracking.json', 'w', encoding='utf-8') as file:\n",
    "    #     json.dump(output_data, file, ensure_ascii=False, indent=None)\n",
    "    # print(\"Successfully saved in part_1_object_tracking.json!\")\n",
    "    with open('part_1_object_tracking_with_ab.json', 'w', encoding='utf-8') as file:\n",
    "        json.dump(output_data, file, ensure_ascii=False, indent=None)\n",
    "    print(\"Successfully saved in part_1_object_tracking_with_ab.json!\")\n",
    "\n",
    "    # Visualize the smoothed track\n",
    "    # vidwrite = cv.VideoWriter(\"part_1_demo.mp4\", cv.VideoWriter_fourcc(*'MP4V'), 30, (700,500))\n",
    "    vidwrite = cv.VideoWriter(\"part_1_demo_with_ab.mp4\", cv.VideoWriter_fourcc(*'MP4V'), 30, (700,500))\n",
    "    while ok:\n",
    "        if count < len(filtered_estimates):\n",
    "            pos, _ = filtered_estimates[count]\n",
    "            pos_x, pos_y = pos\n",
    "        else:\n",
    "            break\n",
    "\n",
    "        count += 1\n",
    "        ###### !!! #######\n",
    "        # Make sure the video is resized. Otherwise the coords in the data file won't work.\n",
    "        image = cv.resize(image, (700, 500)) \n",
    "        ###### !!! #######\n",
    "        # Draw the circle at the estimated position\n",
    "        # if pos_x != -1 and pos_y != -1:\n",
    "        #     image = cv.circle(image, (int(pos_x), int(pos_y)), 1, (0, 0, 255), 2)\n",
    "        # Draw the Line\n",
    "        for i in range(count):\n",
    "            pos, _ = filtered_estimates[i]\n",
    "            pos_x, pos_y = pos\n",
    "            image = cv.circle(image, (int(pos_x), int(pos_y)), 1, (0, 0, 255), 2)\n",
    "        vidwrite.write(image)\n",
    "        \n",
    "        ok, image = cap.read()\n",
    "\n",
    "    vidwrite.release()"
   ]
  },
  {
   "cell_type": "code",
   "execution_count": 2,
   "id": "7fbcf7ce-eadc-4021-90a9-de052629ee32",
   "metadata": {},
   "outputs": [
    {
     "name": "stdout",
     "output_type": "stream",
     "text": [
      "Successfully saved in part_1_object_tracking.json!\n"
     ]
    },
    {
     "name": "stderr",
     "output_type": "stream",
     "text": [
      "OpenCV: FFMPEG: tag 0x5634504d/'MP4V' is not supported with codec id 12 and format 'mp4 / MP4 (MPEG-4 Part 14)'\n",
      "OpenCV: FFMPEG: fallback to use tag 0x7634706d/'mp4v'\n"
     ]
    }
   ],
   "source": [
    "frame_dict = load_obj_each_frame(\"object_to_track.json\")\n",
    "video_file = \"commonwealth.mp4\"\n",
    "draw_target_object_center(video_file,frame_dict['obj'])"
   ]
  },
  {
   "cell_type": "markdown",
   "id": "42715757-2b0f-4475-b41e-cbb45e410792",
   "metadata": {
    "jp-MarkdownHeadingCollapsed": true
   },
   "source": [
    "Kalman filter"
   ]
  },
  {
   "cell_type": "code",
   "execution_count": 77,
   "id": "1dd7cc94",
   "metadata": {},
   "outputs": [],
   "source": [
    "import json\n",
    "import cv2 as cv\n",
    "import numpy as np\n",
    "\n",
    "def load_obj_each_frame(data_file):\n",
    "    with open(data_file, 'r') as file:\n",
    "        frame_dict = json.load(file)\n",
    "    return frame_dict\n",
    "\n",
    "def kalman_filter(initial_state, initial_covariance, transition_matrix, observation_matrix, process_noise, measurement_noise, observations):\n",
    "    state_estimate = initial_state\n",
    "    covariance_estimate = initial_covariance\n",
    "    estimates = []\n",
    "\n",
    "    for observation in observations:\n",
    "        # Prediction step\n",
    "        predicted_state = transition_matrix @ state_estimate\n",
    "        predicted_covariance = transition_matrix @ covariance_estimate @ transition_matrix.T + process_noise\n",
    "\n",
    "        # Update step\n",
    "        if observation != [-1, -1]:\n",
    "            observation = np.array(observation)\n",
    "            innovation = observation - (observation_matrix @ predicted_state)\n",
    "            innovation_covariance = observation_matrix @ predicted_covariance @ observation_matrix.T + measurement_noise\n",
    "\n",
    "            kalman_gain = predicted_covariance @ observation_matrix.T @ np.linalg.inv(innovation_covariance)\n",
    "\n",
    "            state_estimate = predicted_state + kalman_gain @ innovation\n",
    "            covariance_estimate = (np.eye(len(initial_state)) - kalman_gain @ observation_matrix) @ predicted_covariance\n",
    "        else:\n",
    "            # skip this step if observation is missing\n",
    "            state_estimate = predicted_state\n",
    "            covariance_estimate = predicted_covariance\n",
    "\n",
    "        estimates.append(state_estimate.tolist())\n",
    "\n",
    "    return estimates\n",
    "\n",
    "def draw_target_object_center(video_file, obj_centers):\n",
    "    count = 0\n",
    "    cap = cv.VideoCapture(video_file)\n",
    "    ok, image = cap.read()\n",
    "\n",
    "    # https://www.bzarg.com/p/how-a-kalman-filter-works-in-pictures/\n",
    "    # Initialize Kalman filter parameters\n",
    "    # The result from the alpha-beta filter looks good, and the car seems to be moving at a constant speed, so B is not necessary.\n",
    "    initial_state = np.array([313, 229, -0.5, -0.4])   # X\n",
    "    initial_covariance = np.eye(4)  # naive P\n",
    "    transition_matrix = np.array([[1, 0, 1, 0], [0, 1, 0, 1], [0, 0, 1, 0], [0, 0, 0, 1]])  # A, assume dt=1\n",
    "    observation_matrix = np.array([[1, 0, 0, 0], [0, 1, 0, 0]])     # H\n",
    "    process_noise = np.eye(4) * (10**2)     # Q\n",
    "    measurement_noise = np.eye(2) * (100**2)    # R\n",
    "    \n",
    "    filtered_estimates = kalman_filter(initial_state, initial_covariance, transition_matrix, observation_matrix, process_noise, measurement_noise, obj_centers)\n",
    "\n",
    "    print([row[0] for row in filtered_estimates])\n",
    "    print([row[1] for row in filtered_estimates])\n",
    "    \n",
    "    # Save in a JSON file\n",
    "    estimated_positions = [[row[0], row[1]] for row in filtered_estimates]\n",
    "    part_1_object_tracking = [[int(round(x)), int(round(y))] for x, y in estimated_positions]\n",
    "    output_data = {\"obj\": part_1_object_tracking}\n",
    "    # with open('part_1_object_tracking.json', 'w', encoding='utf-8') as file:\n",
    "    #     json.dump(output_data, file, ensure_ascii=False, indent=None)\n",
    "    # print(\"Successfully saved in part_1_object_tracking.json!\")\n",
    "    with open('part_1_object_tracking_with_kalman.json', 'w', encoding='utf-8') as file:\n",
    "        json.dump(output_data, file, ensure_ascii=False, indent=None)\n",
    "    print(\"Successfully saved in part_1_object_tracking_with_kalman.json!\")\n",
    "\n",
    "    # Visualize the smoothed track\n",
    "    # vidwrite = cv.VideoWriter(\"part_1_demo.mp4\", cv.VideoWriter_fourcc(*'MP4V'), 30, (700,500))\n",
    "    vidwrite = cv.VideoWriter(\"part_1_demo_with_kalman.mp4\", cv.VideoWriter_fourcc(*'MP4V'), 30, (700,500))\n",
    "    while ok:\n",
    "        if count < len(filtered_estimates):\n",
    "            pos_x, pos_y, _, _ = filtered_estimates[count]\n",
    "        else:\n",
    "            break\n",
    "\n",
    "        count += 1\n",
    "        ###### !!! #######\n",
    "        # Make sure the video is resized. Otherwise the coords in the data file won't work.\n",
    "        image = cv.resize(image, (700, 500)) \n",
    "        ###### !!! #######\n",
    "        # Draw the circle at the estimated position\n",
    "        # if pos_x != -1 and pos_y != -1:\n",
    "        #     image = cv.circle(image, (int(pos_x), int(pos_y)), 1, (0, 0, 255), 2)\n",
    "        # Draw the Line\n",
    "        for i in range(count):\n",
    "            pos_x, pos_y, _, _ = filtered_estimates[i]\n",
    "            image = cv.circle(image, (int(pos_x), int(pos_y)), 1, (0, 0, 255), 2)\n",
    "        vidwrite.write(image)\n",
    "        \n",
    "        ok, image = cap.read()\n",
    "\n",
    "    vidwrite.release()"
   ]
  },
  {
   "cell_type": "code",
   "execution_count": 78,
   "id": "acfd46de",
   "metadata": {},
   "outputs": [
    {
     "name": "stdout",
     "output_type": "stream",
     "text": [
      "[312.5, 312.0, 311.463223510059, 311.96412652290616, 311.79353195600083, 311.6229373890955, 309.41496085075187, 307.623700496864, 306.75715437911293, 305.8906082613619, 305.0240621436108, 304.15751602585976, 303.2909699081087, 302.42442379035765, 301.5578776726066, 300.69133155485554, 299.8247854371045, 298.9582393193534, 298.09169320160237, 297.2251470838513, 296.35860096610025, 295.4920548483492, 294.62550873059814, 293.7589626128471, 292.89241649509603, 292.025870377345, 287.09905222555494, 286.5281260412982, 285.69134588651025, 285.1948165750661, 284.2867007793066, 284.2091833807781, 283.71629466612274, 283.0428735197883, 282.3694523734539, 281.6960312271195, 281.02261008078506, 280.34918893445064, 279.6757677881162, 278.1555765940647, 276.64902077759797, 275.7664218123676, 274.8838228471372, 274.60027535791954, 273.8185863982694, 272.4609897275252, 271.57847482677687, 270.69595992602854, 269.8134450252802, 268.93093012453187, 268.04841522378354, 267.1659003230352, 266.28338542228687, 265.40087052153854, 264.5183556207902, 263.63584072004187, 262.75332581929354, 261.8708109185452, 261.9483786756389, 261.0672762711762, 260.14742143418283, 259.5833356310132, 258.88200041695484, 258.0763902573375, 257.1888393774133, 256.3926129865214, 255.59638659562947, 254.80016020473755, 254.00393381384563, 253.20770742295372, 252.4114810320618, 251.61525464116988, 250.81902825027797, 250.02280185938605, 249.22657546849413, 251.7380694083972, 251.25990670525795, 250.7817440021187, 250.30358129897945, 249.8254185958402, 249.34725589270096, 248.8690931895617, 248.39093048642246, 247.91276778328321, 247.43460508014397, 246.95644237700472, 246.47827967386547, 246.00011697072622, 245.52195426758698, 245.04379156444773, 244.56562886130848, 244.08746615816924, 243.60930345503, 243.13114075189074, 242.6529780487515, 242.17481534561225, 241.696652642473, 241.21848993933375, 240.7403272361945, 240.26216453305526, 239.784001829916, 239.30583912677676, 238.8276764236375, 238.34951372049827, 237.87135101735902, 237.39318831421977, 236.91502561108052, 232.02648186865176, 231.71104304931941, 231.0937866689834, 230.47653028864738, 229.85927390831137, 229.24201752797535, 228.62476114763933, 228.00750476730332, 227.3902483869673, 226.77299200663128, 226.15573562629527, 225.53847924595925, 224.99587420530153, 224.3857201860064, 223.7755661667113, 223.727946534385, 223.1957480520858, 222.6635495697866, 222.1313510874874, 221.59915260518818, 221.06695412288897, 220.53475564058976, 220.00255715829056, 219.05596072702696, 218.22210649646885, 217.3494812657655, 216.42376035480035, 215.82135600024495, 215.46040617576077, 215.28240222071838, 215.2329805173167, 214.82078160766662, 213.72534837860704, 212.67307849560547, 212.40827710812349, 211.51743193174224, 211.29616545419498, 210.83929304234087, 210.1945437338807, 210.1412071208244, 209.69419133595676, 209.1297504617596, 207.96077772224083, 207.21279498249535, 205.9789265279246, 205.5081070623631, 204.87874762704342, 204.12219190529248, 203.26609184559103, 202.7047135686997, 202.37425359010055, 202.21574287598486, 201.80899435551618, 201.31457820258788, 199.95617035639532, 199.16643732493324, 198.2877143127882, 197.7244152900719, 197.02838493837717, 196.33235458668244, 195.6363242349877, 194.94029388329298, 194.24426353159825, 193.54823317990352, 192.8522028282088, 192.15617247651406, 191.46014212481933, 192.78804031631907, 192.67663410181765, 192.5614395946099, 192.4942621091421, 192.10752078029446, 191.77152880164078, 190.73594462715198, 190.5744279941921, 190.15755918464217, 189.74069037509224, 189.32382156554232, 188.9069527559924, 188.49008394644247, 188.07321513689254, 187.65634632734262, 187.2394775177927, 186.82260870824277, 186.40573989869284, 185.98887108914292, 185.572002279593, 185.15513347004307, 184.73826466049314, 184.32139585094322, 183.9045270413933, 183.48765823184337, 183.07078942229344, 182.65392061274352, 177.10519842615213, 177.25457656743725, 176.78296106980045, 176.17864080456124, 175.57432053932203, 174.97000027408282, 174.3656800088436, 171.6329907426066, 170.6863185076458, 170.4998846895054, 169.6760904916082, 168.852296293711, 169.2792424343428, 168.65957503843197, 168.03990764252114, 167.42024024661032, 166.8005728506995, 168.34959282384904, 168.01627215748655, 167.82484107666502, 167.3241992631446, 166.9921099582565, 166.78448945408982, 166.67224833103177, 166.2551403615428, 165.97306725545022, 165.67842522285665, 165.38378319026307, 165.0891411576695, 164.79449912507593, 164.49985709248236, 164.2052150598888, 163.91057302729521, 163.61593099470164, 163.32128896210807, 163.0266469295145, 162.73200489692093, 162.43736286432735, 162.14272083173378, 161.8480787991402, 161.55343676654664, 161.25879473395307, 160.9641527013595, 160.66951066876592, 160.37486863617235, 160.08022660357878, 159.7855845709852, 159.49094253839164]\n",
      "[228.6, 228.1940805434255, 227.80739251859282, 224.18567274966597, 222.69838022912592, 221.21108770858586, 222.13817453635568, 222.364203122902, 221.65862845958654, 220.95305379627106, 220.2474791329556, 219.54190446964012, 218.83632980632464, 218.13075514300917, 217.4251804796937, 216.71960581637822, 216.01403115306275, 215.30845648974727, 214.6028818264318, 213.89730716311632, 213.19173249980085, 212.48615783648538, 211.7805831731699, 211.07500850985443, 210.36943384653895, 209.66385918322348, 207.04663556574587, 206.09998646179108, 205.1481988390632, 203.77672441543092, 202.8022890533707, 201.9160386696386, 201.426624978402, 200.57235107992688, 199.71807718145175, 198.86380328297662, 198.0095293845015, 197.15525548602636, 196.30098158755123, 197.60369745871645, 197.010188487971, 196.42647454550917, 195.84276060304734, 195.7034597613715, 195.19460704582588, 194.30487653849937, 193.7293423719852, 193.15380820547105, 192.5782740389569, 192.00273987244273, 191.42720570592857, 190.8516715394144, 190.27613737290025, 189.7006032063861, 189.12506903987193, 188.54953487335777, 187.9740007068436, 187.39846654032945, 186.04198941562282, 185.72475603709714, 184.64579987004927, 184.36657563687552, 183.8564679622934, 183.55527308174825, 183.02505625701298, 182.50695687250715, 181.98885748800132, 181.47075810349548, 180.95265871898965, 180.43455933448382, 179.916459949978, 179.39836056547216, 178.88026118096633, 178.3621617964605, 177.84406241195467, 176.09729530639646, 175.4610497223035, 174.82480413821054, 174.18855855411758, 173.55231297002462, 172.91606738593165, 172.2798218018387, 171.64357621774573, 171.00733063365277, 170.3710850495598, 169.73483946546685, 169.0985938813739, 168.46234829728093, 167.82610271318796, 167.189857129095, 166.55361154500204, 165.91736596090908, 165.28112037681612, 164.64487479272316, 164.0086292086302, 163.37238362453724, 162.73613804044427, 162.0998924563513, 161.46364687225835, 160.8274012881654, 160.19115570407243, 159.55491011997947, 158.9186645358865, 158.28241895179355, 157.64617336770058, 157.00992778360762, 156.37368219951466, 155.998432863668, 155.7129107642295, 155.12752194510637, 154.54213312598324, 153.95674430686012, 153.371355487737, 152.78596666861387, 152.20057784949074, 151.61518903036762, 151.0298002112445, 150.44441139212137, 149.85902257299824, 148.06670401800076, 147.36648737700443, 146.6662707360081, 147.3369876752791, 146.826753844065, 146.3165200128509, 145.8062861816368, 145.2960523504227, 144.78581851920862, 144.27558468799452, 143.76535085678043, 141.26830160624885, 140.78184625017337, 140.4710547980778, 139.5109149976454, 138.88172068609668, 138.49919032452047, 138.30442175804572, 137.86439950866173, 137.36024229462012, 137.41094205314664, 137.01159686775748, 136.37412816418072, 135.95781576263465, 135.32684686310364, 134.90487742307724, 133.53912539185222, 132.55498395003536, 131.82525265426938, 131.52520983216667, 131.3528083656483, 130.88105728106552, 130.5946320321702, 130.4425594465888, 130.01914631381072, 129.75038098520727, 129.60065254840453, 129.53816621609874, 129.16642886011942, 128.54942016459265, 128.11646725625036, 127.7369704048855, 127.66246700867184, 127.19971233115925, 126.9105913676733, 126.73591468301781, 126.4340451831445, 126.1321756832712, 125.8303061833979, 125.52843668352459, 125.22656718365128, 124.92469768377798, 124.62282818390467, 124.32095868403137, 124.01908918415806, 121.25758936330081, 121.39706099913946, 120.53462911958012, 120.00045340918157, 119.66724429538323, 119.1769759067509, 119.32672535427646, 119.41430106380837, 119.15044506227396, 118.88658906073955, 118.62273305920515, 118.35887705767074, 118.09502105613633, 117.83116505460193, 117.56730905306752, 117.30345305153311, 117.0395970499987, 116.7757410484643, 116.51188504692989, 116.24802904539548, 115.98417304386108, 115.72031704232667, 115.45646104079226, 115.19260503925786, 114.92874903772345, 114.66489303618904, 114.40103703465464, 109.10319228830488, 108.24370812884595, 107.79368286307725, 107.21750848810242, 106.6413341131276, 106.06515973815277, 105.48898536317795, 107.29231891293037, 107.09889265382108, 106.96248854402042, 106.7782788275393, 106.59406911105818, 106.78425120044157, 106.66114401633013, 106.53803683221868, 106.41492964810723, 106.29182246399579, 102.9617848177432, 102.70201500074334, 102.52419234847486, 102.03746699900583, 101.73106059375277, 101.18653290500508, 100.83004122217483, 100.24692107814661, 100.23562993438156, 99.86762389449561, 99.49961785460965, 99.1316118147237, 98.76360577483774, 98.39559973495179, 98.02759369506583, 97.65958765517988, 97.29158161529392, 96.92357557540797, 96.55556953552201, 96.18756349563606, 95.8195574557501, 95.45155141586415, 95.08354537597819, 94.71553933609223, 94.34753329620628, 93.97952725632032, 93.61152121643437, 93.24351517654841, 92.87550913666246, 92.5075030967765, 92.13949705689055]\n",
      "Successfully saved in part_1_object_tracking_with_kalman.json!\n"
     ]
    },
    {
     "name": "stderr",
     "output_type": "stream",
     "text": [
      "OpenCV: FFMPEG: tag 0x5634504d/'MP4V' is not supported with codec id 12 and format 'mp4 / MP4 (MPEG-4 Part 14)'\n",
      "OpenCV: FFMPEG: fallback to use tag 0x7634706d/'mp4v'\n"
     ]
    }
   ],
   "source": [
    "frame_dict = load_obj_each_frame(\"object_to_track.json\")\n",
    "video_file = \"commonwealth.mp4\"\n",
    "draw_target_object_center(video_file,frame_dict['obj'])"
   ]
  }
 ],
 "metadata": {
  "kernelspec": {
   "display_name": "Python 3 (ipykernel)",
   "language": "python",
   "name": "python3"
  },
  "language_info": {
   "codemirror_mode": {
    "name": "ipython",
    "version": 3
   },
   "file_extension": ".py",
   "mimetype": "text/x-python",
   "name": "python",
   "nbconvert_exporter": "python",
   "pygments_lexer": "ipython3",
   "version": "3.10.13"
  }
 },
 "nbformat": 4,
 "nbformat_minor": 5
}

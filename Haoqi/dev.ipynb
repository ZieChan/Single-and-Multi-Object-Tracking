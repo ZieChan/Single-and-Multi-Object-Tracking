{
 "cells": [
  {
   "cell_type": "code",
   "execution_count": 1,
   "id": "592a57c5",
   "metadata": {},
   "outputs": [],
   "source": [
    "# -*- coding: utf-8 -*-\n",
    "import json\n",
    "import cv2 as cv\n",
    "# from google.colab.patches import cv2_imshow"
   ]
  },
  {
   "cell_type": "markdown",
   "id": "e9a648ed",
   "metadata": {},
   "source": [
    "### Part 1"
   ]
  },
  {
   "cell_type": "code",
   "execution_count": null,
   "id": "ab34aff3-972f-4cde-8ea5-3644f9524477",
   "metadata": {},
   "outputs": [],
   "source": [
    "def load_obj_each_frame(data_file):\n",
    "    with open(data_file, 'r') as file:\n",
    "        frame_dict = json.load(file)\n",
    "    return \n",
    "\n",
    "def draw_target_object_center(video_file, obj_centers):\n",
    "    count = 0\n",
    "    cap = cv.VideoCapture(video_file)\n",
    "    frames = []\n",
    "    ok, image = cap.read()\n",
    "    vidwrite = cv.VideoWriter(\"part_1_demo.mp4\", cv.VideoWriter_fourcc(*'MP4V'), 30, (700,500)) \n",
    "    \n",
    "    while ok:\n",
    "        pos_x, pos_y = obj_centers[count]\n",
    "        count += 1\n",
    "        ######!!!!#######\n",
    "        # Make sure the video is resized to this size. Otherwise the coordinates in the data file won't work.\n",
    "        image = cv.resize(image, (700, 500))\n",
    "        ######!!!!#######\n",
    "        image = cv.circle(image, (int(pos_x),int(pos_y)), 1, (0,0,255), 2)\n",
    "        vidwrite.write(image)\n",
    "        ok, image = cap.read()\n",
    "    vidwrite.release()\n",
    "\n",
    "\n",
    "frame_dict = load_obj_each_frame(\"object_to_track.json\")\n",
    "video_file = \"commonwealth.mp4\"\n",
    "draw_target_object_center(video_file, frame_dict['obj'])\n"
   ]
  },
  {
   "cell_type": "markdown",
   "id": "b3470f47",
   "metadata": {},
   "source": [
    "### Part 2"
   ]
  },
  {
   "cell_type": "code",
   "execution_count": null,
   "id": "52fa9cde",
   "metadata": {},
   "outputs": [],
   "source": [
    "def draw_object(object_dict,image,color = (0, 255, 0), thickness = 2,c_color= \\\n",
    "                (255, 0, 0)):\n",
    "    # draw box\n",
    "    x = object_dict['x_min']\n",
    "    y = object_dict['y_min']\n",
    "    width = object_dict['width']\n",
    "    height = object_dict['height']\n",
    "    image = cv.rectangle(image, (x, y), (x + width, y + height), color, thickness)\n",
    "    return image\n",
    "\n",
    "def draw_objects_in_video(video_file,frame_dict):\n",
    "    count = 0\n",
    "    cap = cv.VideoCapture(video_file)\n",
    "    frames = []\n",
    "    ok, image = cap.read()\n",
    "    vidwrite = cv.VideoWriter(\"part_2_demo.mp4\", cv.VideoWriter_fourcc(*'MP4V'), 30, (700,500))\n",
    "    while ok:\n",
    "        ######!!!!#######\n",
    "        image = cv.resize(image, (700, 500)) # make sure your video is resize to this size, otherwise the coords in the data file won't work !!!\n",
    "        ######!!!!#######\n",
    "        obj_list = frame_dict[str(count)]\n",
    "        for obj in obj_list:\n",
    "          image = draw_object(obj,image)\n",
    "        vidwrite.write(image)\n",
    "        count+=1\n",
    "        ok, image = cap.read()\n",
    "    vidwrite.release()\n",
    "\n",
    "frame_dict = load_obj_each_frame(\"frame_dict.json\")\n",
    "video_file = \"commonwealth.mp4\"\n",
    "draw_objects_in_video(video_file,frame_dict)"
   ]
  }
 ],
 "metadata": {
  "kernelspec": {
   "display_name": "Python 3 (ipykernel)",
   "language": "python",
   "name": "python3"
  },
  "language_info": {
   "codemirror_mode": {
    "name": "ipython",
    "version": 3
   },
   "file_extension": ".py",
   "mimetype": "text/x-python",
   "name": "python",
   "nbconvert_exporter": "python",
   "pygments_lexer": "ipython3",
   "version": "3.10.13"
  }
 },
 "nbformat": 4,
 "nbformat_minor": 5
}
